{
 "cells": [
  {
   "cell_type": "code",
   "execution_count": 98,
   "id": "dc2273f4",
   "metadata": {},
   "outputs": [],
   "source": [
    "import pandas as pd\n",
    "import matplotlib.pyplot as plt\n",
    "import numpy as np\n",
    "import seaborn as sns # makes the charts pretty\n",
    "# imports libraries needed to manipulate the dataset"
   ]
  },
  {
   "cell_type": "code",
   "execution_count": 63,
   "id": "9848715a",
   "metadata": {},
   "outputs": [],
   "source": [
    "#OPENING AND READING OF DATA SET"
   ]
  },
  {
   "cell_type": "code",
   "execution_count": 64,
   "id": "0b819096",
   "metadata": {},
   "outputs": [],
   "source": [
    "loans =pd.read_csv(\"Cost_of_Loans.csv\")\n",
    "#this input/output operation Reads a comma-separated values (csv) file "
   ]
  },
  {
   "cell_type": "code",
   "execution_count": 65,
   "id": "b8045486",
   "metadata": {},
   "outputs": [],
   "source": [
    "# UNDERSTANDING THE DATA SET"
   ]
  },
  {
   "cell_type": "code",
   "execution_count": 66,
   "id": "e43ef1d5",
   "metadata": {},
   "outputs": [
    {
     "data": {
      "text/plain": [
       "(87, 2)"
      ]
     },
     "execution_count": 66,
     "metadata": {},
     "output_type": "execute_result"
    }
   ],
   "source": [
    "loans.shape\n",
    "# this function Returns a tuple (finite ordered list/sequence of elements) representing the dimensionality of the Dataset."
   ]
  },
  {
   "cell_type": "code",
   "execution_count": 67,
   "id": "60238ab0",
   "metadata": {
    "scrolled": true
   },
   "outputs": [
    {
     "data": {
      "text/plain": [
       "Loan    object\n",
       "Date    object\n",
       "dtype: object"
      ]
     },
     "execution_count": 67,
     "metadata": {},
     "output_type": "execute_result"
    }
   ],
   "source": [
    "loans.dtypes\n",
    "# This function looks at the data type of each column. "
   ]
  },
  {
   "cell_type": "code",
   "execution_count": 68,
   "id": "3c84613c",
   "metadata": {},
   "outputs": [
    {
     "data": {
      "text/html": [
       "<div>\n",
       "<style scoped>\n",
       "    .dataframe tbody tr th:only-of-type {\n",
       "        vertical-align: middle;\n",
       "    }\n",
       "\n",
       "    .dataframe tbody tr th {\n",
       "        vertical-align: top;\n",
       "    }\n",
       "\n",
       "    .dataframe thead th {\n",
       "        text-align: right;\n",
       "    }\n",
       "</style>\n",
       "<table border=\"1\" class=\"dataframe\">\n",
       "  <thead>\n",
       "    <tr style=\"text-align: right;\">\n",
       "      <th></th>\n",
       "      <th>Loan</th>\n",
       "      <th>Date</th>\n",
       "    </tr>\n",
       "  </thead>\n",
       "  <tbody>\n",
       "    <tr>\n",
       "      <th>0</th>\n",
       "      <td>2,879,837.15</td>\n",
       "      <td>NaN</td>\n",
       "    </tr>\n",
       "    <tr>\n",
       "      <th>1</th>\n",
       "      <td>2,891,268.25</td>\n",
       "      <td>NaN</td>\n",
       "    </tr>\n",
       "    <tr>\n",
       "      <th>2</th>\n",
       "      <td>2,691,268.25</td>\n",
       "      <td>NaN</td>\n",
       "    </tr>\n",
       "    <tr>\n",
       "      <th>3</th>\n",
       "      <td>2741822.65</td>\n",
       "      <td>30/08/2019</td>\n",
       "    </tr>\n",
       "    <tr>\n",
       "      <th>4</th>\n",
       "      <td>2760952.5</td>\n",
       "      <td>19/9/2019</td>\n",
       "    </tr>\n",
       "  </tbody>\n",
       "</table>\n",
       "</div>"
      ],
      "text/plain": [
       "           Loan        Date\n",
       "0  2,879,837.15         NaN\n",
       "1  2,891,268.25         NaN\n",
       "2  2,691,268.25         NaN\n",
       "3    2741822.65  30/08/2019\n",
       "4     2760952.5   19/9/2019"
      ]
     },
     "execution_count": 68,
     "metadata": {},
     "output_type": "execute_result"
    }
   ],
   "source": [
    "loans.head()\n",
    "# This function returns the first 5 rows for the object based on position. \n",
    "#It is useful for quickly testing if your object has the right type of data in it."
   ]
  },
  {
   "cell_type": "code",
   "execution_count": 69,
   "id": "5150e3c8",
   "metadata": {
    "scrolled": true
   },
   "outputs": [
    {
     "data": {
      "text/html": [
       "<div>\n",
       "<style scoped>\n",
       "    .dataframe tbody tr th:only-of-type {\n",
       "        vertical-align: middle;\n",
       "    }\n",
       "\n",
       "    .dataframe tbody tr th {\n",
       "        vertical-align: top;\n",
       "    }\n",
       "\n",
       "    .dataframe thead th {\n",
       "        text-align: right;\n",
       "    }\n",
       "</style>\n",
       "<table border=\"1\" class=\"dataframe\">\n",
       "  <thead>\n",
       "    <tr style=\"text-align: right;\">\n",
       "      <th></th>\n",
       "      <th>Loan</th>\n",
       "      <th>Date</th>\n",
       "    </tr>\n",
       "  </thead>\n",
       "  <tbody>\n",
       "    <tr>\n",
       "      <th>82</th>\n",
       "      <td>387,826.70</td>\n",
       "      <td>29/09/2021</td>\n",
       "    </tr>\n",
       "    <tr>\n",
       "      <th>83</th>\n",
       "      <td>388,525.85</td>\n",
       "      <td>4/10/2021</td>\n",
       "    </tr>\n",
       "    <tr>\n",
       "      <th>84</th>\n",
       "      <td>288,525.85</td>\n",
       "      <td>4/10/2021</td>\n",
       "    </tr>\n",
       "    <tr>\n",
       "      <th>85</th>\n",
       "      <td>288,733.30</td>\n",
       "      <td>6/10/2021</td>\n",
       "    </tr>\n",
       "    <tr>\n",
       "      <th>86</th>\n",
       "      <td>188,733.30</td>\n",
       "      <td>6/10/2021</td>\n",
       "    </tr>\n",
       "  </tbody>\n",
       "</table>\n",
       "</div>"
      ],
      "text/plain": [
       "          Loan        Date\n",
       "82  387,826.70  29/09/2021\n",
       "83  388,525.85   4/10/2021\n",
       "84  288,525.85   4/10/2021\n",
       "85  288,733.30   6/10/2021\n",
       "86  188,733.30   6/10/2021"
      ]
     },
     "execution_count": 69,
     "metadata": {},
     "output_type": "execute_result"
    }
   ],
   "source": [
    "loans.tail()\n",
    "# This function returns last 5 rows from the object based on position. It is useful for quickly verifying data."
   ]
  },
  {
   "cell_type": "code",
   "execution_count": 70,
   "id": "3b617e08",
   "metadata": {},
   "outputs": [
    {
     "data": {
      "text/plain": [
       "array(['Loan', 'Date'], dtype=object)"
      ]
     },
     "execution_count": 70,
     "metadata": {},
     "output_type": "execute_result"
    }
   ],
   "source": [
    "loans.columns.values\n",
    "# this function returns an array of column names"
   ]
  },
  {
   "cell_type": "code",
   "execution_count": 71,
   "id": "632f67e9",
   "metadata": {},
   "outputs": [
    {
     "data": {
      "text/plain": [
       "['Loan', 'Date']"
      ]
     },
     "execution_count": 71,
     "metadata": {},
     "output_type": "execute_result"
    }
   ],
   "source": [
    "loans.columns.values.tolist()\n",
    "# this function returns a list of column names"
   ]
  },
  {
   "cell_type": "code",
   "execution_count": null,
   "id": "abf0e647",
   "metadata": {},
   "outputs": [],
   "source": [
    "# MANAGING DATA IN THE DATASET"
   ]
  },
  {
   "cell_type": "code",
   "execution_count": 9,
   "id": "5c5d3a62",
   "metadata": {},
   "outputs": [
    {
     "data": {
      "text/plain": [
       "<bound method DataFrame.info of             Loan        Date\n",
       "0   2,879,837.15         NaN\n",
       "1   2,891,268.25         NaN\n",
       "2   2,691,268.25         NaN\n",
       "3     2741822.65  30/08/2019\n",
       "4      2760952.5   19/9/2019\n",
       "..           ...         ...\n",
       "82    387,826.70  29/09/2021\n",
       "83    388,525.85   4/10/2021\n",
       "84    288,525.85   4/10/2021\n",
       "85    288,733.30   6/10/2021\n",
       "86    188,733.30   6/10/2021\n",
       "\n",
       "[87 rows x 2 columns]>"
      ]
     },
     "execution_count": 9,
     "metadata": {},
     "output_type": "execute_result"
    }
   ],
   "source": [
    "loans.info\n",
    "# This function prints information about a Dataset including the index dtype and columns, non-null values and memory usage."
   ]
  },
  {
   "cell_type": "code",
   "execution_count": 10,
   "id": "54fbeb6a",
   "metadata": {},
   "outputs": [],
   "source": [
    "loans['Date'] =loans['Date'].apply(pd.to_datetime)\n",
    "# this method converts the specified column to_datetime"
   ]
  },
  {
   "cell_type": "code",
   "execution_count": 22,
   "id": "b82ecd08",
   "metadata": {},
   "outputs": [],
   "source": [
    "loans['Loan'] = loans['Loan'].str.replace(',','')\n",
    "# this method replaces a specified phrase with another specified phrase."
   ]
  },
  {
   "cell_type": "code",
   "execution_count": 23,
   "id": "bc3a7c74",
   "metadata": {},
   "outputs": [],
   "source": [
    "loans['Loan'] =loans['Loan'].astype(float)\n",
    "# .astype Casts a pandas object to a specified datatype dtype."
   ]
  },
  {
   "cell_type": "code",
   "execution_count": 24,
   "id": "f6851188",
   "metadata": {},
   "outputs": [],
   "source": [
    "loans.set_index( 'Date' ,inplace = True )\n",
    "# this function Sets the Dataset index using existing columns.\n",
    "# in this case we are converting the Date column into the Dataset index column"
   ]
  },
  {
   "cell_type": "code",
   "execution_count": 27,
   "id": "b3cc3ebc",
   "metadata": {
    "scrolled": true
   },
   "outputs": [
    {
     "data": {
      "text/plain": [
       "<bound method DataFrame.info of                   Loan\n",
       "Date                  \n",
       "NaT         2879837.15\n",
       "NaT         2891268.25\n",
       "NaT         2691268.25\n",
       "2019-08-30  2741822.65\n",
       "2019-09-19  2760952.50\n",
       "...                ...\n",
       "2021-09-29   387826.70\n",
       "2021-04-10   388525.85\n",
       "2021-04-10   288525.85\n",
       "2021-06-10   288733.30\n",
       "2021-06-10   188733.30\n",
       "\n",
       "[87 rows x 1 columns]>"
      ]
     },
     "execution_count": 27,
     "metadata": {},
     "output_type": "execute_result"
    }
   ],
   "source": [
    "loans.info"
   ]
  },
  {
   "cell_type": "code",
   "execution_count": 30,
   "id": "af350d2e",
   "metadata": {},
   "outputs": [
    {
     "data": {
      "text/html": [
       "<div>\n",
       "<style scoped>\n",
       "    .dataframe tbody tr th:only-of-type {\n",
       "        vertical-align: middle;\n",
       "    }\n",
       "\n",
       "    .dataframe tbody tr th {\n",
       "        vertical-align: top;\n",
       "    }\n",
       "\n",
       "    .dataframe thead th {\n",
       "        text-align: right;\n",
       "    }\n",
       "</style>\n",
       "<table border=\"1\" class=\"dataframe\">\n",
       "  <thead>\n",
       "    <tr style=\"text-align: right;\">\n",
       "      <th></th>\n",
       "      <th>Loan</th>\n",
       "    </tr>\n",
       "    <tr>\n",
       "      <th>Date</th>\n",
       "      <th></th>\n",
       "    </tr>\n",
       "  </thead>\n",
       "  <tbody>\n",
       "    <tr>\n",
       "      <th>NaT</th>\n",
       "      <td>2879837.15</td>\n",
       "    </tr>\n",
       "    <tr>\n",
       "      <th>NaT</th>\n",
       "      <td>2891268.25</td>\n",
       "    </tr>\n",
       "    <tr>\n",
       "      <th>NaT</th>\n",
       "      <td>2691268.25</td>\n",
       "    </tr>\n",
       "    <tr>\n",
       "      <th>2019-08-30</th>\n",
       "      <td>2741822.65</td>\n",
       "    </tr>\n",
       "    <tr>\n",
       "      <th>2019-09-19</th>\n",
       "      <td>2760952.50</td>\n",
       "    </tr>\n",
       "    <tr>\n",
       "      <th>...</th>\n",
       "      <td>...</td>\n",
       "    </tr>\n",
       "    <tr>\n",
       "      <th>2021-09-29</th>\n",
       "      <td>387826.70</td>\n",
       "    </tr>\n",
       "    <tr>\n",
       "      <th>2021-04-10</th>\n",
       "      <td>388525.85</td>\n",
       "    </tr>\n",
       "    <tr>\n",
       "      <th>2021-04-10</th>\n",
       "      <td>288525.85</td>\n",
       "    </tr>\n",
       "    <tr>\n",
       "      <th>2021-06-10</th>\n",
       "      <td>288733.30</td>\n",
       "    </tr>\n",
       "    <tr>\n",
       "      <th>2021-06-10</th>\n",
       "      <td>188733.30</td>\n",
       "    </tr>\n",
       "  </tbody>\n",
       "</table>\n",
       "<p>87 rows × 1 columns</p>\n",
       "</div>"
      ],
      "text/plain": [
       "                  Loan\n",
       "Date                  \n",
       "NaT         2879837.15\n",
       "NaT         2891268.25\n",
       "NaT         2691268.25\n",
       "2019-08-30  2741822.65\n",
       "2019-09-19  2760952.50\n",
       "...                ...\n",
       "2021-09-29   387826.70\n",
       "2021-04-10   388525.85\n",
       "2021-04-10   288525.85\n",
       "2021-06-10   288733.30\n",
       "2021-06-10   188733.30\n",
       "\n",
       "[87 rows x 1 columns]"
      ]
     },
     "execution_count": 30,
     "metadata": {},
     "output_type": "execute_result"
    }
   ],
   "source": [
    "loans.dropna()\n",
    "# this function drops all rows with columsn having null data"
   ]
  },
  {
   "cell_type": "code",
   "execution_count": 60,
   "id": "8436ec4b",
   "metadata": {
    "scrolled": true
   },
   "outputs": [
    {
     "data": {
      "text/plain": [
       "Loan    0\n",
       "dtype: int64"
      ]
     },
     "execution_count": 60,
     "metadata": {},
     "output_type": "execute_result"
    }
   ],
   "source": [
    "loans.isnull().sum()\n",
    "# This fucntion returns the number of missing values in the data set. "
   ]
  },
  {
   "cell_type": "code",
   "execution_count": 77,
   "id": "703c1f8f",
   "metadata": {},
   "outputs": [],
   "source": [
    "# CREATING GRAPHICAL DISPLAYS OF THE DATA SET"
   ]
  },
  {
   "cell_type": "code",
   "execution_count": 44,
   "id": "546323d0",
   "metadata": {},
   "outputs": [
    {
     "data": {
      "text/plain": [
       "Text(0.5, 1.0, 'Loans and Date Graph')"
      ]
     },
     "execution_count": 44,
     "metadata": {},
     "output_type": "execute_result"
    },
    {
     "data": {
      "image/png": "[encoded data removed]",
      "text/plain": [
       "<Figure size 1008x720 with 1 Axes>"
      ]
     },
     "metadata": {
      "needs_background": "light"
     },
     "output_type": "display_data"
    }
   ],
   "source": [
    "plt.rcParams[ 'figure.figsize' ] = ( 14 , 10 ) # this matplot library sets the figures to be large in size\n",
    "loans[ 'Loan' ].plot(grid = True) # this method plots the graphic representation and configures the grid lines\n",
    "plt.title( 'Loans and Date Graph' )  # this set the title of the graphic representation"
   ]
  },
  {
   "cell_type": "code",
   "execution_count": 41,
   "id": "8c64577c",
   "metadata": {},
   "outputs": [
    {
     "data": {
      "text/html": [
       "<div>\n",
       "<style scoped>\n",
       "    .dataframe tbody tr th:only-of-type {\n",
       "        vertical-align: middle;\n",
       "    }\n",
       "\n",
       "    .dataframe tbody tr th {\n",
       "        vertical-align: top;\n",
       "    }\n",
       "\n",
       "    .dataframe thead th {\n",
       "        text-align: right;\n",
       "    }\n",
       "</style>\n",
       "<table border=\"1\" class=\"dataframe\">\n",
       "  <thead>\n",
       "    <tr style=\"text-align: right;\">\n",
       "      <th></th>\n",
       "      <th>Loan</th>\n",
       "    </tr>\n",
       "    <tr>\n",
       "      <th>Date</th>\n",
       "      <th></th>\n",
       "    </tr>\n",
       "  </thead>\n",
       "  <tbody>\n",
       "    <tr>\n",
       "      <th>2019-12-31</th>\n",
       "      <td>2.624097e+06</td>\n",
       "    </tr>\n",
       "    <tr>\n",
       "      <th>2020-12-31</th>\n",
       "      <td>1.770754e+06</td>\n",
       "    </tr>\n",
       "    <tr>\n",
       "      <th>2021-12-31</th>\n",
       "      <td>6.731905e+05</td>\n",
       "    </tr>\n",
       "  </tbody>\n",
       "</table>\n",
       "</div>"
      ],
      "text/plain": [
       "                    Loan\n",
       "Date                    \n",
       "2019-12-31  2.624097e+06\n",
       "2020-12-31  1.770754e+06\n",
       "2021-12-31  6.731905e+05"
      ]
     },
     "execution_count": 41,
     "metadata": {},
     "output_type": "execute_result"
    }
   ],
   "source": [
    "loans.resample(rule = 'A' ).mean()\n",
    "# this method resamples time-series data\n",
    "# it is a Convenience method for frequency conversion and resampling of time series. "
   ]
  },
  {
   "cell_type": "code",
   "execution_count": 43,
   "id": "6dd9e71a",
   "metadata": {},
   "outputs": [
    {
     "data": {
      "text/plain": [
       "Text(0.5, 1.0, 'Yearly Maximum Loan Price')"
      ]
     },
     "execution_count": 43,
     "metadata": {},
     "output_type": "execute_result"
    },
    {
     "data": {
      "image/png": "[encoded data removed]",
      "text/plain": [
       "<Figure size 1008x720 with 1 Axes>"
      ]
     },
     "metadata": {
      "needs_background": "light"
     },
     "output_type": "display_data"
    }
   ],
   "source": [
    "plt.rcParams[ 'figure.figsize' ] = ( 14 , 10 ) \n",
    "loans[ 'Loan' ].resample( 'A' ). max ().plot(kind = 'line' ) #this method represents resampled data and changes the plot kind\n",
    "# uses a frequency offset of A which is set to right\n",
    "plt.title( 'Yearly Maximum Loan Price' )"
   ]
  },
  {
   "cell_type": "code",
   "execution_count": null,
   "id": "c97c7f70",
   "metadata": {},
   "outputs": [],
   "source": [
    "# FURTHER DATA MANAGEMENT"
   ]
  },
  {
   "cell_type": "code",
   "execution_count": 88,
   "id": "0605c05d",
   "metadata": {},
   "outputs": [],
   "source": [
    "loans.reset_index(inplace=True)\n",
    "# this function converts the dateindex column back to a normal column"
   ]
  },
  {
   "cell_type": "code",
   "execution_count": 89,
   "id": "d3075bdc",
   "metadata": {},
   "outputs": [
    {
     "data": {
      "text/html": [
       "<div>\n",
       "<style scoped>\n",
       "    .dataframe tbody tr th:only-of-type {\n",
       "        vertical-align: middle;\n",
       "    }\n",
       "\n",
       "    .dataframe tbody tr th {\n",
       "        vertical-align: top;\n",
       "    }\n",
       "\n",
       "    .dataframe thead th {\n",
       "        text-align: right;\n",
       "    }\n",
       "</style>\n",
       "<table border=\"1\" class=\"dataframe\">\n",
       "  <thead>\n",
       "    <tr style=\"text-align: right;\">\n",
       "      <th></th>\n",
       "      <th>level_0</th>\n",
       "      <th>index</th>\n",
       "      <th>Loan</th>\n",
       "      <th>Date</th>\n",
       "    </tr>\n",
       "  </thead>\n",
       "  <tbody>\n",
       "    <tr>\n",
       "      <th>0</th>\n",
       "      <td>0</td>\n",
       "      <td>0</td>\n",
       "      <td>2,879,837.15</td>\n",
       "      <td>NaN</td>\n",
       "    </tr>\n",
       "    <tr>\n",
       "      <th>1</th>\n",
       "      <td>1</td>\n",
       "      <td>1</td>\n",
       "      <td>2,891,268.25</td>\n",
       "      <td>NaN</td>\n",
       "    </tr>\n",
       "    <tr>\n",
       "      <th>2</th>\n",
       "      <td>2</td>\n",
       "      <td>2</td>\n",
       "      <td>2,691,268.25</td>\n",
       "      <td>NaN</td>\n",
       "    </tr>\n",
       "    <tr>\n",
       "      <th>3</th>\n",
       "      <td>3</td>\n",
       "      <td>3</td>\n",
       "      <td>2741822.65</td>\n",
       "      <td>30/08/2019</td>\n",
       "    </tr>\n",
       "    <tr>\n",
       "      <th>4</th>\n",
       "      <td>4</td>\n",
       "      <td>4</td>\n",
       "      <td>2760952.5</td>\n",
       "      <td>19/9/2019</td>\n",
       "    </tr>\n",
       "  </tbody>\n",
       "</table>\n",
       "</div>"
      ],
      "text/plain": [
       "   level_0  index          Loan        Date\n",
       "0        0      0  2,879,837.15         NaN\n",
       "1        1      1  2,891,268.25         NaN\n",
       "2        2      2  2,691,268.25         NaN\n",
       "3        3      3    2741822.65  30/08/2019\n",
       "4        4      4     2760952.5   19/9/2019"
      ]
     },
     "execution_count": 89,
     "metadata": {},
     "output_type": "execute_result"
    }
   ],
   "source": [
    "loans.head()"
   ]
  },
  {
   "cell_type": "code",
   "execution_count": 90,
   "id": "4e5b2735",
   "metadata": {},
   "outputs": [
    {
     "data": {
      "text/plain": [
       "level_0    0\n",
       "index      0\n",
       "Loan       0\n",
       "Date       3\n",
       "dtype: int64"
      ]
     },
     "execution_count": 90,
     "metadata": {},
     "output_type": "execute_result"
    }
   ],
   "source": [
    "loans.isnull().sum()\n",
    "# this function displays the sum of all null values in the data set"
   ]
  },
  {
   "cell_type": "code",
   "execution_count": 91,
   "id": "a85679ad",
   "metadata": {},
   "outputs": [
    {
     "data": {
      "text/html": [
       "<div>\n",
       "<style scoped>\n",
       "    .dataframe tbody tr th:only-of-type {\n",
       "        vertical-align: middle;\n",
       "    }\n",
       "\n",
       "    .dataframe tbody tr th {\n",
       "        vertical-align: top;\n",
       "    }\n",
       "\n",
       "    .dataframe thead th {\n",
       "        text-align: right;\n",
       "    }\n",
       "</style>\n",
       "<table border=\"1\" class=\"dataframe\">\n",
       "  <thead>\n",
       "    <tr style=\"text-align: right;\">\n",
       "      <th></th>\n",
       "      <th>level_0</th>\n",
       "      <th>index</th>\n",
       "      <th>Loan</th>\n",
       "      <th>Date</th>\n",
       "    </tr>\n",
       "  </thead>\n",
       "  <tbody>\n",
       "    <tr>\n",
       "      <th>0</th>\n",
       "      <td>0</td>\n",
       "      <td>0</td>\n",
       "      <td>2,879,837.15</td>\n",
       "      <td>NaN</td>\n",
       "    </tr>\n",
       "    <tr>\n",
       "      <th>1</th>\n",
       "      <td>1</td>\n",
       "      <td>1</td>\n",
       "      <td>2,891,268.25</td>\n",
       "      <td>NaN</td>\n",
       "    </tr>\n",
       "    <tr>\n",
       "      <th>2</th>\n",
       "      <td>2</td>\n",
       "      <td>2</td>\n",
       "      <td>2,691,268.25</td>\n",
       "      <td>NaN</td>\n",
       "    </tr>\n",
       "  </tbody>\n",
       "</table>\n",
       "</div>"
      ],
      "text/plain": [
       "   level_0  index          Loan Date\n",
       "0        0      0  2,879,837.15  NaN\n",
       "1        1      1  2,891,268.25  NaN\n",
       "2        2      2  2,691,268.25  NaN"
      ]
     },
     "execution_count": 91,
     "metadata": {},
     "output_type": "execute_result"
    }
   ],
   "source": [
    "loans[loans['Date'].isnull()]\n",
    "# this function displays in detail the rows in the dataset containing null values"
   ]
  },
  {
   "cell_type": "code",
   "execution_count": 92,
   "id": "27617267",
   "metadata": {},
   "outputs": [],
   "source": [
    "loans.drop(loans.index[[0,1,2]], inplace=True)\n",
    "# this function drops the null values in the dataset using  their index"
   ]
  },
  {
   "cell_type": "code",
   "execution_count": 95,
   "id": "4d6aac36",
   "metadata": {},
   "outputs": [
    {
     "data": {
      "text/plain": [
       "<bound method DataFrame.info of     level_0  index        Loan        Date\n",
       "3         3      3  2741822.65  30/08/2019\n",
       "4         4      4   2760952.5   19/9/2019\n",
       "5         5      5  2691884.55  20/09/2019\n",
       "6         6      6   2702387.2   1/10/2019\n",
       "7         7      7   2602387.2   1/10/2019\n",
       "..      ...    ...         ...         ...\n",
       "82       82     82  387,826.70  29/09/2021\n",
       "83       83     83  388,525.85   4/10/2021\n",
       "84       84     84  288,525.85   4/10/2021\n",
       "85       85     85  288,733.30   6/10/2021\n",
       "86       86     86  188,733.30   6/10/2021\n",
       "\n",
       "[84 rows x 4 columns]>"
      ]
     },
     "execution_count": 95,
     "metadata": {},
     "output_type": "execute_result"
    }
   ],
   "source": [
    "loans.info"
   ]
  },
  {
   "cell_type": "code",
   "execution_count": null,
   "id": "2c004ca4",
   "metadata": {},
   "outputs": [],
   "source": []
  }
 ],
 "metadata": {
  "kernelspec": {
   "display_name": "Python 3",
   "language": "python",
   "name": "python3"
  },
  "language_info": {
   "codemirror_mode": {
    "name": "ipython",
    "version": 3
   },
   "file_extension": ".py",
   "mimetype": "text/x-python",
   "name": "python",
   "nbconvert_exporter": "python",
   "pygments_lexer": "ipython3",
   "version": "3.8.8"
  }
 },
 "nbformat": 4,
 "nbformat_minor": 5
}
